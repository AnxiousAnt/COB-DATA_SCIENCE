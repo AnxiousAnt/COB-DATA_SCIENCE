{
  "nbformat": 4,
  "nbformat_minor": 0,
  "metadata": {
    "colab": {
      "provenance": [],
      "authorship_tag": "ABX9TyPqgRa0wDUmb6xqzUVBr3fm",
      "include_colab_link": true
    },
    "kernelspec": {
      "name": "python3",
      "display_name": "Python 3"
    },
    "language_info": {
      "name": "python"
    }
  },
  "cells": [
    {
      "cell_type": "markdown",
      "metadata": {
        "id": "view-in-github",
        "colab_type": "text"
      },
      "source": [
        "<a href=\"https://colab.research.google.com/github/AnxiousAnt/COB-DATA_SCIENCE/blob/main/Phase_1_Task_1.ipynb\" target=\"_parent\"><img src=\"https://colab.research.google.com/assets/colab-badge.svg\" alt=\"Open In Colab\"/></a>"
      ]
    },
    {
      "cell_type": "markdown",
      "source": [
        "PHASE 1 PROJECTS\n",
        "\n",
        "1. Call this public Api and create a csv dataset using python and pandas\n",
        "Api: - https://data.binance.com/api/v3/ticker/24hr"
      ],
      "metadata": {
        "id": "Q5Wqyal_pAtP"
      }
    },
    {
      "cell_type": "code",
      "source": [
        "import requests\n",
        "import pandas as pd\n",
        "\n",
        "url = 'https://data.binance.com/api/v3/ticker/24hr'\n",
        "response = requests.get(url)\n",
        "data = response.json()\n",
        "\n",
        "df = pd.DataFrame(data)\n",
        "\n",
        "df.to_csv('binance_data.csv', index=False)\n",
        "\n",
        "print('CSV file created.')"
      ],
      "metadata": {
        "colab": {
          "base_uri": "https://localhost:8080/"
        },
        "id": "lhQyllBIo1R3",
        "outputId": "b8d93323-0711-42a7-e0fa-c94d491f819d"
      },
      "execution_count": 2,
      "outputs": [
        {
          "output_type": "stream",
          "name": "stdout",
          "text": [
            "CSV file created.\n"
          ]
        }
      ]
    }
  ]
}