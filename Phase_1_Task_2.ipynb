{
  "nbformat": 4,
  "nbformat_minor": 0,
  "metadata": {
    "colab": {
      "provenance": [],
      "authorship_tag": "ABX9TyMk4Z9zgod5edhaYDAvEiGD",
      "include_colab_link": true
    },
    "kernelspec": {
      "name": "python3",
      "display_name": "Python 3"
    },
    "language_info": {
      "name": "python"
    }
  },
  "cells": [
    {
      "cell_type": "markdown",
      "metadata": {
        "id": "view-in-github",
        "colab_type": "text"
      },
      "source": [
        "<a href=\"https://colab.research.google.com/github/AnxiousAnt/COB-DATA_SCIENCE/blob/main/Phase_1_Task_2.ipynb\" target=\"_parent\"><img src=\"https://colab.research.google.com/assets/colab-badge.svg\" alt=\"Open In Colab\"/></a>"
      ]
    },
    {
      "cell_type": "markdown",
      "source": [
        "PHASE 1 PROJECTS\n",
        "\n",
        "2. Clean the dataset replace missing values, remove outliers etc.\n",
        "Dataset :- https://docs.google.com/spreadsheets/d/e/2PACX-1vTSSTcErkXNk8KB0AlijhitwetxeHD2M3R0HJl2QPMAyFq0fxFX4PFKnzA\n",
        "WLDnratIz67DNL6GsZnV/pub?output=csv"
      ],
      "metadata": {
        "id": "9U9FEh2EwRWf"
      }
    },
    {
      "cell_type": "code",
      "execution_count": null,
      "metadata": {
        "id": "vju2tpRHqX6_"
      },
      "outputs": [],
      "source": [
        "import pandas as pd\n",
        "import numpy as np\n",
        "\n",
        "# Load the dataset\n",
        "df = pd.read_csv('dataset - netflix.csv')\n",
        "\n",
        "# Replace '########' with NaN values\n",
        "df = df.replace('########', np.nan)\n",
        "\n",
        "# Drop rows with missing values\n",
        "df = df.dropna()\n",
        "\n",
        "# Calculate quartiles and IQR\n",
        "Q1 = df.quantile(0.25, numeric_only=True)\n",
        "Q3 = df.quantile(0.75, numeric_only=True)\n",
        "IQR = Q3 - Q1\n",
        "\n",
        "# Create a boolean mask to identify outliers\n",
        "outlier_mask = ((df < (Q1 - 3 * IQR)) | (df > (Q3 + 3 * IQR))).any(axis=1)\n",
        "\n",
        "# Remove outliers based on the boolean mask\n",
        "df = df.loc[~outlier_mask]\n",
        "\n",
        "# Display the shape of the cleaned dataset\n",
        "print(df.shape)\n",
        "\n",
        "# Display the first few rows of the cleaned dataset\n",
        "df.head()\n",
        "\n",
        "# Save the cleaned dataset to a new CSV file\n",
        "df.to_csv('cleaned_dataset.csv', index=False)\n"
      ]
    }
  ]
}